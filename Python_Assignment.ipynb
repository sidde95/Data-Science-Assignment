{
  "nbformat": 4,
  "nbformat_minor": 0,
  "metadata": {
    "colab": {
      "provenance": [],
      "authorship_tag": "ABX9TyMwU4m43J3wkL4m6MhzU757",
      "include_colab_link": true
    },
    "kernelspec": {
      "name": "python3",
      "display_name": "Python 3"
    },
    "language_info": {
      "name": "python"
    }
  },
  "cells": [
    {
      "cell_type": "markdown",
      "metadata": {
        "id": "view-in-github",
        "colab_type": "text"
      },
      "source": [
        "<a href=\"https://colab.research.google.com/github/sidde95/Data-Science-Assignment/blob/main/Python_Assignment.ipynb\" target=\"_parent\"><img src=\"https://colab.research.google.com/assets/colab-badge.svg\" alt=\"Open In Colab\"/></a>"
      ]
    },
    {
      "cell_type": "markdown",
      "source": [
        "## 1. Explain the key featured of Python that make it a popular choice of programming."
      ],
      "metadata": {
        "id": "5WIZQlxzFDbn"
      }
    },
    {
      "cell_type": "markdown",
      "source": [
        "Python is popular programming language due to several key features:\n",
        "\n",
        "1. **Readability and Simplicity**: Python's syntax is clear and intuitive, resembling natural language, which makes it easier to read and write. This simplicility allows developers to focus on solving problems rather than on the syntax itself.\n",
        "\n",
        "2. **Versatility**: Python is a general puropose language, which means it can be used for a wide variety of applications, including web development, data analysis, machine learning, artificial intelligence, sceintific computing, automation and more.\n",
        "\n",
        "3. **Large Standard Library**: Python comes with a comprehensive standard library that provides tools suited to many tasks. This reduces the need to write code from scratch and speeds up the development process.\n",
        "\n",
        "4. **Extensive Ecosystem and Libraries**: Beyond the standard library, Pyhton boasts a vast ecosystem of third party package and libraries such as NumPy, Pandas, Matplotlib, Tensorflow and Django. These libraries extend Pyhton's capabilities and make it particularly strong in fields like data science, machine learning and web development.\n",
        "\n",
        "5. **Interpreted Language**: Python is an interpreted language, meaning code can be run line by line, which is ideal for scripting and rapid prototyping. This facilitates debugging and testing.\n",
        "\n",
        "6. **Cross-Platform Compatibility**: Pyhton runs on many operating systems, inclusing Windows, macOS and Linus, allowing for cross platform development.\n",
        "\n",
        "7. **Community Support**: Python has a large active community which means extensive support, abusndant resources and a wealth of tutorials, forums and documentation. This communityalso contributes to the continious imporvement and expansion of the language.\n",
        "\n",
        "8. **Integration Capabilities**: Pyhton can easily integrate with other language and technologies such as C, C++, Java and .NET making it a flexible choice for  awide range of projects.\n",
        "\n",
        "9. **Strong Support for Data Science and Mcahine Learning**: With libraries like Pandas, NumPy, SciPy, Scikit-kit learn and Tensor flow, Python is a preferred language for data language for data analysis, statistical computing and machine learning tasks.\n",
        "\n",
        "10. **Ease of learning**: Pyhton is often recommended as the first programming language for beginners due to its gentle learning curve. The language's straightforward syntax and semantics make it accessible to newcomers.\n",
        "\n",
        "11. **Dynamic Typing and Memeory Management**: Pyhton uses dynamic typing and automcatic memery menagement(garbage collection), which simplifies code and reduces the burden on developers to manage memery allocation and deallocation manually.\n",
        "\n",
        "\n",
        "These features collectively make Python a versitile, powerful and userfriendly language, conteibutinng to its widespread adoption and popularity across various domains and industries."
      ],
      "metadata": {
        "id": "GmtrZtrJFCYf"
      }
    },
    {
      "cell_type": "markdown",
      "source": [
        "##2. Describe the role of predefined keywords in Python and provide examples of how they are used in a program."
      ],
      "metadata": {
        "id": "eodL1B7UO64t"
      }
    },
    {
      "cell_type": "markdown",
      "source": [
        "In Pyhton, predefined keywords are words that have special meaning and are used to define the syntax and structure of Pyhton code. These keywords cannot be used be as identifiers(name for variables, functions, classes, etc.) because they are reserved by the language for specific functions.\n",
        "\n",
        "Examples of how keywords are Used\n",
        "\n",
        "1. `if`, `elif`, `else`\n",
        "These keywords are used for conditional statements"
      ],
      "metadata": {
        "id": "JBnj2RErPizN"
      }
    },
    {
      "cell_type": "code",
      "source": [
        "x = 10\n",
        "if x > 15:\n",
        "  print(\"x is greater than 15\")\n",
        "elif x > 5:\n",
        "  print(\"x is greater than 5\")\n",
        "else:\n",
        "  print(\"x is less than 5\")"
      ],
      "metadata": {
        "colab": {
          "base_uri": "https://localhost:8080/"
        },
        "id": "MXKPNxGSjej6",
        "outputId": "07601543-6789-4840-f84d-d95e9a59a068"
      },
      "execution_count": 13,
      "outputs": [
        {
          "output_type": "stream",
          "name": "stdout",
          "text": [
            "x is greater than 5\n"
          ]
        }
      ]
    },
    {
      "cell_type": "markdown",
      "source": [
        "2. `for`, `in` These keywords are used for looping over a sequence"
      ],
      "metadata": {
        "id": "HbZwFAW6jeM6"
      }
    },
    {
      "cell_type": "code",
      "source": [
        "fruits = ['apple', 'banana', 'cherry']\n",
        "for i in fruits:\n",
        "  print(i)"
      ],
      "metadata": {
        "colab": {
          "base_uri": "https://localhost:8080/"
        },
        "id": "3aZsexMQjdxi",
        "outputId": "9fecd2ea-d702-4c30-eb68-4340a4e7e64a"
      },
      "execution_count": 1,
      "outputs": [
        {
          "output_type": "stream",
          "name": "stdout",
          "text": [
            "apple\n",
            "banana\n",
            "cherry\n"
          ]
        }
      ]
    },
    {
      "cell_type": "markdown",
      "source": [
        "3. `def`, `return` - These keywords are used for defining functions"
      ],
      "metadata": {
        "id": "z1rnYqiejdKq"
      }
    },
    {
      "cell_type": "code",
      "source": [
        "def add(a, b):\n",
        "  return a + b\n",
        "\n",
        "sum = add(4, 7)\n",
        "print(sum)"
      ],
      "metadata": {
        "colab": {
          "base_uri": "https://localhost:8080/"
        },
        "id": "4FnvPtK22IFm",
        "outputId": "f3c9e4f0-1c25-480d-970b-1ff4959821b0"
      },
      "execution_count": 2,
      "outputs": [
        {
          "output_type": "stream",
          "name": "stdout",
          "text": [
            "11\n"
          ]
        }
      ]
    },
    {
      "cell_type": "markdown",
      "source": [
        "Predefined keywords in Pyhton serve various roles such defining control flow(if, else, for, while), creating functions and classes(def , class) handling exceptions(try, except), managing resouces(with) and more. They are essential for writing clear and effective Python code. Using these keywords appropriately allows us to leverage the full power of Pyhton's syntax and features."
      ],
      "metadata": {
        "id": "5ODKIcuJjbha"
      }
    },
    {
      "cell_type": "markdown",
      "source": [
        "##3. Compare and contrast mutable and immutable objects in Python with example."
      ],
      "metadata": {
        "id": "othsZ50zPlxM"
      }
    },
    {
      "cell_type": "markdown",
      "source": [
        "In Python objects can be categorized as either mutable or immutable based on whether their state(or content) can be modified after they are created. Here are the key differences and similarities between mutable and immutable objects:\n",
        "\n",
        "**Mutable Objects**:\n",
        "1. Mutable objects are those whose state and contents can be changed after they are created.\n",
        "\n",
        "2. Lists, dictionaries, sets and user-defined classes\n",
        "\n",
        "3. Elements can be changed, add or removed or performed inplace modifications\n",
        "\n",
        "4. Methods that allow for modification are `append()`, `remove()`, `update()`, etc.\n",
        "\n",
        "\n",
        "Example"
      ],
      "metadata": {
        "id": "p23k7Hz1Pmkt"
      }
    },
    {
      "cell_type": "code",
      "source": [
        "list = ['Apple', 'Banana', 'Cherry', 'Kiwi']\n",
        "\n",
        "list[3] = 'Mango'\n",
        "print(list)"
      ],
      "metadata": {
        "colab": {
          "base_uri": "https://localhost:8080/"
        },
        "id": "BLzbBv9HPZEU",
        "outputId": "6ec66982-ea7f-48d2-e25f-8ee31e20c682"
      },
      "execution_count": null,
      "outputs": [
        {
          "output_type": "stream",
          "name": "stdout",
          "text": [
            "['Apple', 'Banana', 'Cherry', 'Mango']\n"
          ]
        }
      ]
    },
    {
      "cell_type": "code",
      "source": [
        "list.append('Orange')\n",
        "print(list)"
      ],
      "metadata": {
        "colab": {
          "base_uri": "https://localhost:8080/"
        },
        "id": "SvocvfzHSEhV",
        "outputId": "612973b3-52ce-412b-9a89-e7892b607d02"
      },
      "execution_count": null,
      "outputs": [
        {
          "output_type": "stream",
          "name": "stdout",
          "text": [
            "['Apple', 'Banana', 'Cherry', 'Mango', 'Orange']\n"
          ]
        }
      ]
    },
    {
      "cell_type": "markdown",
      "source": [
        "**Immutable Objects**\n",
        "\n",
        "1. Immutable objects are those whose state and contents cannot be modified after they are created.\n",
        "2. Strings, tuples, integers, float, and frozenset are immutable objects.\n",
        "3. Any operations that appears to modify an immutable object will instead create a new object.\n",
        "4. They typically lack method for in place modification. Instead opearations return new objects."
      ],
      "metadata": {
        "id": "2b-WCeOJSL-8"
      }
    },
    {
      "cell_type": "code",
      "source": [
        "my_string = 'hello'\n",
        "my_string[0] = 'H'\n"
      ],
      "metadata": {
        "id": "GIRRydZeTKod",
        "colab": {
          "base_uri": "https://localhost:8080/",
          "height": 159
        },
        "outputId": "e8c6c4b9-77b5-4e50-9f01-0e24fab75512"
      },
      "execution_count": null,
      "outputs": [
        {
          "output_type": "error",
          "ename": "TypeError",
          "evalue": "'str' object does not support item assignment",
          "traceback": [
            "\u001b[0;31m---------------------------------------------------------------------------\u001b[0m",
            "\u001b[0;31mTypeError\u001b[0m                                 Traceback (most recent call last)",
            "\u001b[0;32m<ipython-input-5-d328edde2bfa>\u001b[0m in \u001b[0;36m<cell line: 2>\u001b[0;34m()\u001b[0m\n\u001b[1;32m      1\u001b[0m \u001b[0mmy_string\u001b[0m \u001b[0;34m=\u001b[0m \u001b[0;34m'hello'\u001b[0m\u001b[0;34m\u001b[0m\u001b[0;34m\u001b[0m\u001b[0m\n\u001b[0;32m----> 2\u001b[0;31m \u001b[0mmy_string\u001b[0m\u001b[0;34m[\u001b[0m\u001b[0;36m0\u001b[0m\u001b[0;34m]\u001b[0m \u001b[0;34m=\u001b[0m \u001b[0;34m'H'\u001b[0m\u001b[0;34m\u001b[0m\u001b[0;34m\u001b[0m\u001b[0m\n\u001b[0m",
            "\u001b[0;31mTypeError\u001b[0m: 'str' object does not support item assignment"
          ]
        }
      ]
    },
    {
      "cell_type": "code",
      "source": [
        "my_string.capitalize()"
      ],
      "metadata": {
        "colab": {
          "base_uri": "https://localhost:8080/",
          "height": 35
        },
        "id": "YJ2lxDaATEn1",
        "outputId": "470ee128-d650-4a65-820f-9e14291d08f1"
      },
      "execution_count": null,
      "outputs": [
        {
          "output_type": "execute_result",
          "data": {
            "text/plain": [
              "'Hello'"
            ],
            "application/vnd.google.colaboratory.intrinsic+json": {
              "type": "string"
            }
          },
          "metadata": {},
          "execution_count": 6
        }
      ]
    },
    {
      "cell_type": "markdown",
      "source": [
        "**Comparisons**:\n",
        "\n",
        "1. Mutable Objects:\n",
        " - Can be modified after creation.\n",
        " - Examples - Lists, Dictionaries, sets\n",
        " - Methods modify the object inplace\n",
        " - Can be less efficient for small changes due to internal resizing and memeory allocation.\n",
        " - Suitable for collection of items that change over time.\n",
        " - Not Hashable\n",
        "\n",
        "\n",
        " 2. Immutable Objects:\n",
        "  - Cannot be modified after creation.\n",
        "  - Examples - Strings, Tuples, Integers, Float, Frozenset.\n",
        "  - Methods return new objects.\n",
        "  - Oftern more memory efficient for small, frequent changes.\n",
        "  - Suitable for fixed data that shouldn't change(e.g.., constant values, key in dictionaries)\n",
        "  - Hashable(can be used as keys in dictionaries) if all elements are also immutable.\n",
        "\n",
        "\n",
        "**Similarities**\n",
        "\n",
        "- Both mutable and immutable objects can be assigned to variables, passed to functions and used in various operations.\n",
        "- The type of an object(mutable or immutable) determines how it behaves when being copied. Immutable objects are typically shallow copies, while mutable objects might need deep copying to avoid unintended modifications."
      ],
      "metadata": {
        "id": "WnAhHJUZT4LM"
      }
    },
    {
      "cell_type": "code",
      "source": [
        "my_list = [1, 2, 3]\n",
        "my_list[0] = 10\n",
        "my_list"
      ],
      "metadata": {
        "id": "iTUEGXLyUjI6",
        "colab": {
          "base_uri": "https://localhost:8080/"
        },
        "outputId": "3fa29f7e-b714-4053-9b2f-bc7aa12cdba1"
      },
      "execution_count": null,
      "outputs": [
        {
          "output_type": "execute_result",
          "data": {
            "text/plain": [
              "[10, 2, 3]"
            ]
          },
          "metadata": {},
          "execution_count": 7
        }
      ]
    },
    {
      "cell_type": "code",
      "source": [
        "my_tuple = (1, 2, 3)\n",
        "# my_tuple[0] = 10 This will raise a type error\n",
        "\n",
        "new_tuple = (10, 2, 3)\n",
        "print(new_tuple)"
      ],
      "metadata": {
        "colab": {
          "base_uri": "https://localhost:8080/"
        },
        "id": "5_LHBSu5gUHz",
        "outputId": "eb34f399-4bfb-4aa8-d0f5-cbeb79b2f501"
      },
      "execution_count": null,
      "outputs": [
        {
          "output_type": "stream",
          "name": "stdout",
          "text": [
            "(10, 2, 3)\n"
          ]
        }
      ]
    },
    {
      "cell_type": "markdown",
      "source": [
        "## 4. Discuss the different types of operators in Python and provide examples of how they are used."
      ],
      "metadata": {
        "id": "ML80wHJlgiEL"
      }
    },
    {
      "cell_type": "markdown",
      "source": [
        "In python there are 7 diffent types of operators present.\n",
        "\n",
        "- Arithmetic operator\n",
        "- Comparison Operator\n",
        "- Logical Operator\n",
        "- Bitwise Operator\n",
        "- Assignment Operator\n",
        "- Membership Operator\n",
        "- Identity Operator\n",
        "\n"
      ],
      "metadata": {
        "id": "9D65HgMMhMgB"
      }
    },
    {
      "cell_type": "code",
      "source": [
        "# Arithmetic Operator\n",
        "\n",
        "a = 5\n",
        "b = 3\n",
        "\n",
        "print(a + b)\n",
        "print(a - b)\n",
        "print(a * b)\n",
        "print(a / b)\n",
        "print(a // b)\n",
        "print(a % b)\n",
        "print(a ** b)\n"
      ],
      "metadata": {
        "colab": {
          "base_uri": "https://localhost:8080/"
        },
        "id": "dontZeKRaWGi",
        "outputId": "3f5a270b-56c6-49bc-b94a-f4e44fe8deb3"
      },
      "execution_count": null,
      "outputs": [
        {
          "output_type": "stream",
          "name": "stdout",
          "text": [
            "8\n",
            "2\n",
            "15\n",
            "1.6666666666666667\n",
            "1\n",
            "2\n",
            "125\n"
          ]
        }
      ]
    },
    {
      "cell_type": "code",
      "source": [
        "# Comparison Operator\n",
        "\n",
        "a = 7\n",
        "b = 10\n",
        "\n",
        "print(a == b)\n",
        "print(a != b)\n",
        "print(a > b)\n",
        "print(a < b)\n",
        "print(a >= b)\n",
        "print(a <= b)\n",
        "\n"
      ],
      "metadata": {
        "colab": {
          "base_uri": "https://localhost:8080/"
        },
        "id": "1ziPZ03Qamea",
        "outputId": "d4a95dee-2ecb-450b-ff64-61a4109938c0"
      },
      "execution_count": null,
      "outputs": [
        {
          "output_type": "stream",
          "name": "stdout",
          "text": [
            "False\n",
            "True\n",
            "False\n",
            "True\n",
            "False\n",
            "True\n"
          ]
        }
      ]
    },
    {
      "cell_type": "code",
      "source": [
        "# Logical operator\n",
        "\n",
        "a = True\n",
        "b = False\n",
        "\n",
        "print(a and b)\n",
        "print(a or b)\n",
        "print(not a)"
      ],
      "metadata": {
        "colab": {
          "base_uri": "https://localhost:8080/"
        },
        "id": "XD2nlcuhat6U",
        "outputId": "30fcccb0-2556-4785-89f4-900fe0d27ee4"
      },
      "execution_count": null,
      "outputs": [
        {
          "output_type": "stream",
          "name": "stdout",
          "text": [
            "False\n",
            "True\n",
            "False\n"
          ]
        }
      ]
    },
    {
      "cell_type": "code",
      "source": [
        "# Bitwise Operator\n",
        "\n",
        "a = 60\n",
        "b = 13\n",
        "\n",
        "print(a & b)\n",
        "print(a | b)\n",
        "print(a ^ b)\n",
        "print(~a)\n",
        "print(a << 2)\n",
        "print(a >> 2)"
      ],
      "metadata": {
        "colab": {
          "base_uri": "https://localhost:8080/"
        },
        "id": "-OfzMNZQa91E",
        "outputId": "1518d091-2969-4aff-aa70-4348f41be912"
      },
      "execution_count": null,
      "outputs": [
        {
          "output_type": "stream",
          "name": "stdout",
          "text": [
            "12\n",
            "61\n",
            "49\n",
            "-61\n",
            "240\n",
            "15\n"
          ]
        }
      ]
    },
    {
      "cell_type": "code",
      "source": [
        "# Assignement Operator\n",
        "\n",
        "a = 10\n",
        "b = 5\n",
        "\n",
        "a += b\n",
        "print(a)"
      ],
      "metadata": {
        "colab": {
          "base_uri": "https://localhost:8080/"
        },
        "id": "buN4RhYybVsM",
        "outputId": "9681a272-5af8-4a3e-9bc7-8a5d73317186"
      },
      "execution_count": null,
      "outputs": [
        {
          "output_type": "stream",
          "name": "stdout",
          "text": [
            "15\n"
          ]
        }
      ]
    },
    {
      "cell_type": "code",
      "source": [
        "# Membership Operator\n",
        "\n",
        "list = [1, 2, 3, 4, 5]\n",
        "\n",
        "print(1 in list)\n",
        "print(6 in list)"
      ],
      "metadata": {
        "colab": {
          "base_uri": "https://localhost:8080/"
        },
        "id": "L2guu6aQbdfb",
        "outputId": "86fefd59-99f7-4090-904b-064c8e998f43"
      },
      "execution_count": null,
      "outputs": [
        {
          "output_type": "stream",
          "name": "stdout",
          "text": [
            "True\n",
            "False\n"
          ]
        }
      ]
    },
    {
      "cell_type": "code",
      "source": [
        "# Identity operator\n",
        "\n",
        "a = 10\n",
        "b = 10\n",
        "\n",
        "print(a is b)"
      ],
      "metadata": {
        "colab": {
          "base_uri": "https://localhost:8080/"
        },
        "id": "hQMhyOSIbipj",
        "outputId": "484ba5c1-eb2f-4e9b-b164-e3bf79b9b310"
      },
      "execution_count": null,
      "outputs": [
        {
          "output_type": "stream",
          "name": "stdout",
          "text": [
            "True\n"
          ]
        }
      ]
    },
    {
      "cell_type": "markdown",
      "source": [
        "## 5. Explain the concept of type casting in Python with examples."
      ],
      "metadata": {
        "id": "juyCq8FZbop0"
      }
    },
    {
      "cell_type": "markdown",
      "source": [
        "Typecasting in Pyhton also known as type conversion, refers to converting one data type into another. This can be done using built in functions that allow explicit conversion between types. Type castinf can be essential when performing operations that require specific data types or when handling data from different sources.\n",
        "\n",
        "There are two types of type casting in Python:\n",
        "1. **Implicit Type Casting**: Automcatic type conversion performed by Python.\n",
        "2. **Explicit Type Casting**: Manual conversion performed by the programmer.\n",
        "\n",
        "**Implicit Type Casting**: Implicit type casting happens automatically when Python converts one data type into another without any user intervention. This typically occurs in operations involving mixed data types, where Python promotes the smaller or lower type to a higher type to prevent data loss.\n"
      ],
      "metadata": {
        "id": "yIGXRJjbdA88"
      }
    },
    {
      "cell_type": "code",
      "source": [
        "a = 10\n",
        "b = 3.4\n",
        "\n",
        "print(a+b)"
      ],
      "metadata": {
        "colab": {
          "base_uri": "https://localhost:8080/"
        },
        "id": "pbec8sCme1mx",
        "outputId": "7c202e3b-2763-40af-cd83-84c769f8f3c0"
      },
      "execution_count": null,
      "outputs": [
        {
          "output_type": "stream",
          "name": "stdout",
          "text": [
            "13.4\n"
          ]
        }
      ]
    },
    {
      "cell_type": "markdown",
      "source": [
        "In the above example a is integer type and b is float type after addition the output is converted into float type.\n",
        "\n",
        "**Explicit Type Casting**: Explicit type casting is when the programmer manually converts one data type to another using Pyhton's built in functions. Common functions for type casting include `int()`, `str()`, `float()`, `list()`, etc."
      ],
      "metadata": {
        "id": "B0O9x-j4e6nD"
      }
    },
    {
      "cell_type": "code",
      "source": [
        "# Converting to Integer\n",
        "\n",
        "num_str = '123'\n",
        "num_int = int(num_str)\n",
        "print(num_int)\n",
        "print(type(num_int))"
      ],
      "metadata": {
        "colab": {
          "base_uri": "https://localhost:8080/"
        },
        "id": "-0WckLN4f8vB",
        "outputId": "31e0e106-b3a6-4cbe-d0cb-1ffe74ac6ccd"
      },
      "execution_count": null,
      "outputs": [
        {
          "output_type": "stream",
          "name": "stdout",
          "text": [
            "123\n",
            "<class 'int'>\n"
          ]
        }
      ]
    },
    {
      "cell_type": "code",
      "source": [
        "# Converting to float\n",
        "\n",
        "num_str = \"123.45\"\n",
        "num_float = float(num_str)\n",
        "print(num_float)\n",
        "print(type(num_float))"
      ],
      "metadata": {
        "colab": {
          "base_uri": "https://localhost:8080/"
        },
        "id": "KbwYvkUugIE7",
        "outputId": "6fd4fd41-4a04-44f8-8aad-72bc045c68c6"
      },
      "execution_count": null,
      "outputs": [
        {
          "output_type": "stream",
          "name": "stdout",
          "text": [
            "123.45\n",
            "<class 'float'>\n"
          ]
        }
      ]
    },
    {
      "cell_type": "markdown",
      "source": [
        "Note: String values can't be converted into integers, upon converting those will give an error."
      ],
      "metadata": {
        "id": "oTEcXuMtgRnb"
      }
    },
    {
      "cell_type": "code",
      "source": [
        "str = 'sid'\n",
        "try:\n",
        "    num_int = int(str)\n",
        "except ValueError:\n",
        "    print(\"Cannot convert string to integer\") #Output: Error:invalid literal for int() with base 10: 'abc'\n"
      ],
      "metadata": {
        "colab": {
          "base_uri": "https://localhost:8080/"
        },
        "id": "bxUZFaQrgrBz",
        "outputId": "a62c3f5f-494c-4229-c623-f40b96639aa7"
      },
      "execution_count": null,
      "outputs": [
        {
          "output_type": "stream",
          "name": "stdout",
          "text": [
            "Cannot convert string to integer\n"
          ]
        }
      ]
    },
    {
      "cell_type": "markdown",
      "source": [
        "## 6. How do conditional statements work in Pyhton? Illustrate with examples."
      ],
      "metadata": {
        "id": "XmtGnsUlg0Qk"
      }
    },
    {
      "cell_type": "markdown",
      "source": [
        "Conditional statement in Python allows to execute different blocks of code based on certain conditions. These statements are fundamental for controlling the flow of a program. The primary conditional statements in Python are `if`, `elif` & `else`.\n",
        "\n",
        "- `if` Statement\n",
        "\n",
        "The if statement is used to test a condition. If the conidition is true, executes the code block indented under it.|"
      ],
      "metadata": {
        "id": "NGVMZkZthhZb"
      }
    },
    {
      "cell_type": "code",
      "source": [
        "x = 10\n",
        "if x> 5:\n",
        "  print(\"x is greater than 5\")"
      ],
      "metadata": {
        "id": "yQs4u_84lA2b",
        "colab": {
          "base_uri": "https://localhost:8080/"
        },
        "outputId": "0f87cc71-729c-46f4-cc21-0698bb7963a7"
      },
      "execution_count": 1,
      "outputs": [
        {
          "output_type": "stream",
          "name": "stdout",
          "text": [
            "x is greater than 5\n"
          ]
        }
      ]
    },
    {
      "cell_type": "markdown",
      "source": [
        "- `elif` Statement\n",
        "\n",
        "The `elif` statement allows you to check multiple expressions for `True` and execute a block of code as soon as one of the conditions is `True`"
      ],
      "metadata": {
        "id": "th40pNeZYoDU"
      }
    },
    {
      "cell_type": "code",
      "source": [
        "x = 10\n",
        "if x> 15:\n",
        "  print(\"x is greater than 15\")\n",
        "elif x> 5:\n",
        "  print(\"x is greater than 10\")"
      ],
      "metadata": {
        "colab": {
          "base_uri": "https://localhost:8080/"
        },
        "id": "yGt5ZNkpZOaM",
        "outputId": "965e623a-6932-42ac-cea9-8db5f7a325a5"
      },
      "execution_count": 3,
      "outputs": [
        {
          "output_type": "stream",
          "name": "stdout",
          "text": [
            "x is greater than 10\n"
          ]
        }
      ]
    },
    {
      "cell_type": "markdown",
      "source": [
        "- `else` Statement\n",
        "\n",
        "The `else` statement catches anything which isn't caught by the preceding conditions"
      ],
      "metadata": {
        "id": "3S-zjyv6ZUKE"
      }
    },
    {
      "cell_type": "code",
      "source": [
        "x = 3\n",
        "if x> 15:\n",
        "  print(\"x is greater than 15\")\n",
        "elif x> 5:\n",
        "  print(\"x is greater than 10\")\n",
        "else:\n",
        "  print(\"x is less than 5\")"
      ],
      "metadata": {
        "colab": {
          "base_uri": "https://localhost:8080/"
        },
        "id": "GjnfHFi-Zlur",
        "outputId": "160c2e93-01ef-4ff9-a24b-538d6c699476"
      },
      "execution_count": 4,
      "outputs": [
        {
          "output_type": "stream",
          "name": "stdout",
          "text": [
            "x is less than 5\n"
          ]
        }
      ]
    },
    {
      "cell_type": "markdown",
      "source": [
        "**Nested Conditionals**"
      ],
      "metadata": {
        "id": "MfVm5WNjZoks"
      }
    },
    {
      "cell_type": "code",
      "source": [
        "x = 10\n",
        "y = 20\n",
        "if x> 5:\n",
        "  if y> 15:\n",
        "    print(\"x is greater than 5 and y is greater than 15\")"
      ],
      "metadata": {
        "colab": {
          "base_uri": "https://localhost:8080/"
        },
        "id": "cfLBPRcMZ0V7",
        "outputId": "24d75020-48e4-4378-a040-926f8d0a569b"
      },
      "execution_count": 5,
      "outputs": [
        {
          "output_type": "stream",
          "name": "stdout",
          "text": [
            "x is greater than 5 and y is greater than 15\n"
          ]
        }
      ]
    },
    {
      "cell_type": "markdown",
      "source": [
        "## 7. Describe different types of loops in Python and their use cases with examples."
      ],
      "metadata": {
        "id": "8FNYkuWmZ6cT"
      }
    },
    {
      "cell_type": "markdown",
      "source": [
        "In python loops are used to iterate over a sequence(like a list, tuple, dictionary, set or string) or to execute a block of code repeatedly. The two main types of loops are `for` and `while`.\n",
        "\n",
        "- `for` Loop: The for loop in Pyhton is used to iterate over a sequence(eg. list, tuple, string) or other iterable objects. It executes a block of code for each item in the sequence"
      ],
      "metadata": {
        "id": "IZHLbk2aaMOj"
      }
    },
    {
      "cell_type": "code",
      "source": [
        "fruits = ['Apple', 'Banana', 'Cherry']\n",
        "for fruit in fruits:\n",
        "  print(fruit)"
      ],
      "metadata": {
        "colab": {
          "base_uri": "https://localhost:8080/"
        },
        "id": "qXR3MdCXdt3A",
        "outputId": "2697bdda-8910-48a7-8cb4-9c66ff035a83"
      },
      "execution_count": 7,
      "outputs": [
        {
          "output_type": "stream",
          "name": "stdout",
          "text": [
            "Apple\n",
            "Banana\n",
            "Cherry\n"
          ]
        }
      ]
    },
    {
      "cell_type": "markdown",
      "source": [
        "- `while` Loop: The while loop in Python executes a block of code as long as a specified condition is `True`."
      ],
      "metadata": {
        "id": "7HVnrDlKdyNJ"
      }
    },
    {
      "cell_type": "code",
      "source": [
        "count = 0\n",
        "while count < 5:\n",
        "  print(count)\n",
        "  count += 1"
      ],
      "metadata": {
        "colab": {
          "base_uri": "https://localhost:8080/"
        },
        "id": "ZUCxHRMPfPq5",
        "outputId": "f842a117-33a3-4968-8cfc-8a3eac214437"
      },
      "execution_count": 8,
      "outputs": [
        {
          "output_type": "stream",
          "name": "stdout",
          "text": [
            "0\n",
            "1\n",
            "2\n",
            "3\n",
            "4\n"
          ]
        }
      ]
    },
    {
      "cell_type": "markdown",
      "source": [
        "- `break` and `continue` statements\n",
        "  - `break` is used to exit a loop prematurely\n",
        "  - `continue` is used to skip the rest of the code inside the loop for the current iteration and move to the next iteration"
      ],
      "metadata": {
        "id": "SEQ3-BVDfWv7"
      }
    },
    {
      "cell_type": "code",
      "source": [
        "for i in range(10):\n",
        "  if i == 5:\n",
        "    break\n",
        "  print(i)"
      ],
      "metadata": {
        "colab": {
          "base_uri": "https://localhost:8080/"
        },
        "id": "5ztukJlxfwCS",
        "outputId": "0f195767-3bfd-4314-fe60-fd5f6e93b172"
      },
      "execution_count": 9,
      "outputs": [
        {
          "output_type": "stream",
          "name": "stdout",
          "text": [
            "0\n",
            "1\n",
            "2\n",
            "3\n",
            "4\n"
          ]
        }
      ]
    },
    {
      "cell_type": "code",
      "source": [
        "for i in range(10):\n",
        "  if i == 5:\n",
        "    continue\n",
        "  print(i)"
      ],
      "metadata": {
        "colab": {
          "base_uri": "https://localhost:8080/"
        },
        "id": "-JDJvjAkfePQ",
        "outputId": "e720eeef-05e5-4587-c981-1cfa16b7693d"
      },
      "execution_count": 10,
      "outputs": [
        {
          "output_type": "stream",
          "name": "stdout",
          "text": [
            "0\n",
            "1\n",
            "2\n",
            "3\n",
            "4\n",
            "6\n",
            "7\n",
            "8\n",
            "9\n"
          ]
        }
      ]
    },
    {
      "cell_type": "markdown",
      "source": [
        "**Nested Loops** - Loop insisde another loop. This is called a nested loop."
      ],
      "metadata": {
        "id": "gNF3xSkAgZwD"
      }
    },
    {
      "cell_type": "code",
      "source": [
        "for i in range(3):\n",
        "  for j in range(2):\n",
        "    print(f\"i = {i}, j = {j}\")"
      ],
      "metadata": {
        "colab": {
          "base_uri": "https://localhost:8080/"
        },
        "id": "UNsq-Iy9gu0x",
        "outputId": "cf339b97-1cce-4eb0-b418-b366728b8de0"
      },
      "execution_count": 12,
      "outputs": [
        {
          "output_type": "stream",
          "name": "stdout",
          "text": [
            "i = 0, j = 0\n",
            "i = 0, j = 1\n",
            "i = 1, j = 0\n",
            "i = 1, j = 1\n",
            "i = 2, j = 0\n",
            "i = 2, j = 1\n"
          ]
        }
      ]
    },
    {
      "cell_type": "code",
      "source": [],
      "metadata": {
        "id": "8CdaSMLQhGFN"
      },
      "execution_count": null,
      "outputs": []
    }
  ]
}