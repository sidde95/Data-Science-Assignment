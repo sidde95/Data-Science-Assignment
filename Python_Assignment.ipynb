{
  "nbformat": 4,
  "nbformat_minor": 0,
  "metadata": {
    "colab": {
      "provenance": [],
      "authorship_tag": "ABX9TyMCWsfv97YTDNn4JvVWoLbD",
      "include_colab_link": true
    },
    "kernelspec": {
      "name": "python3",
      "display_name": "Python 3"
    },
    "language_info": {
      "name": "python"
    }
  },
  "cells": [
    {
      "cell_type": "markdown",
      "metadata": {
        "id": "view-in-github",
        "colab_type": "text"
      },
      "source": [
        "<a href=\"https://colab.research.google.com/github/sidde95/Data-Science-Assignment/blob/main/Python_Assignment.ipynb\" target=\"_parent\"><img src=\"https://colab.research.google.com/assets/colab-badge.svg\" alt=\"Open In Colab\"/></a>"
      ]
    },
    {
      "cell_type": "markdown",
      "source": [
        "## 1. Explain the key featured of Python that make it a popular choice of programming."
      ],
      "metadata": {
        "id": "5WIZQlxzFDbn"
      }
    },
    {
      "cell_type": "markdown",
      "source": [
        "Python is popular programming language due to several key features:\n",
        "\n",
        "1. **Readability and Simplicity**: Python's syntax is clear and intuitive, resembling natural language, which makes it easier to read and write. This simplicility allows developers to focus on solving problems rather than on the syntax itself.\n",
        "\n",
        "2. **Versatility**: Python is a general puropose language, which means it can be used for a wide variety of applications, including web development, data analysis, machine learning, artificial intelligence, sceintific computing, automation and more.\n",
        "\n",
        "3. **Large Standard Library**: Python comes with a comprehensive standard library that provides tools suited to many tasks. This reduces the need to write code from scratch and speeds up the development process.\n",
        "\n",
        "4. **Extensive Ecosystem and Libraries**: Beyond the standard library, Pyhton boasts a vast ecosystem of third party package and libraries such as NumPy, Pandas, Matplotlib, Tensorflow and Django. These libraries extend Pyhton's capabilities and make it particularly strong in fields like data science, machine learning and web development.\n",
        "\n",
        "5. **Interpreted Language**: Python is an interpreted language, meaning code can be run line by line, which is ideal for scripting and rapid prototyping. This facilitates debugging and testing.\n",
        "\n",
        "6. **Cross-Platform Compatibility**: Pyhton runs on many operating systems, inclusing Windows, macOS and Linus, allowing for cross platform development.\n",
        "\n",
        "7. **Community Support**: Python has a large active community which means extensive support, abusndant resources and a wealth of tutorials, forums and documentation. This communityalso contributes to the continious imporvement and expansion of the language.\n",
        "\n",
        "8. **Integration Capabilities**: Pyhton can easily integrate with other language and technologies such as C, C++, Java and .NET making it a flexible choice for  awide range of projects.\n",
        "\n",
        "9. **Strong Support for Data Science and Mcahine Learning**: With libraries like Pandas, NumPy, SciPy, Scikit-kit learn and Tensor flow, Python is a preferred language for data language for data analysis, statistical computing and machine learning tasks.\n",
        "\n",
        "10. **Ease of learning**: Pyhton is often recommended as the first programming language for beginners due to its gentle learning curve. The language's straightforward syntax and semantics make it accessible to newcomers.\n",
        "\n",
        "11. **Dynamic Typing and Memeory Management**: Pyhton uses dynamic typing and automcatic memery menagement(garbage collection), which simplifies code and reduces the burden on developers to manage memery allocation and deallocation manually.\n",
        "\n",
        "\n",
        "These features collectively make Python a versitile, powerful and userfriendly language, conteibutinng to its widespread adoption and popularity across various domains and industries."
      ],
      "metadata": {
        "id": "GmtrZtrJFCYf"
      }
    },
    {
      "cell_type": "markdown",
      "source": [
        "##2. Describe the role of predefined keywords in Pyhton and provide examples of how they are used in a program."
      ],
      "metadata": {
        "id": "eodL1B7UO64t"
      }
    },
    {
      "cell_type": "markdown",
      "source": [],
      "metadata": {
        "id": "JBnj2RErPizN"
      }
    },
    {
      "cell_type": "markdown",
      "source": [
        "##3. Compare and contrast mutable and immutable objects in Python with example."
      ],
      "metadata": {
        "id": "othsZ50zPlxM"
      }
    },
    {
      "cell_type": "markdown",
      "source": [
        "In Python objects can be categorized as either mutable or immutable based on whether their state(or content) can be modified after they are created. Here are the key differences and similarities between mutable and immutable objects:\n",
        "\n",
        "**Mutable Objects**:\n",
        "1. Mutable objects are those whose state and contents can be changed after they are created.\n",
        "\n",
        "2. Lists, dictionaries, sets and user-defined classes\n",
        "\n",
        "3. Elements can be changed, add or removed or performed inplace modifications\n",
        "\n",
        "4. Methods that allow for modification are `append()`, `remove()`, `update()`, etc.\n",
        "\n",
        "\n",
        "Example"
      ],
      "metadata": {
        "id": "p23k7Hz1Pmkt"
      }
    },
    {
      "cell_type": "code",
      "source": [
        "list = ['Apple', 'Banana', 'Cherry', 'Kiwi']\n",
        "\n",
        "list[3] = 'Mango'\n",
        "print(list)"
      ],
      "metadata": {
        "colab": {
          "base_uri": "https://localhost:8080/"
        },
        "id": "BLzbBv9HPZEU",
        "outputId": "6ec66982-ea7f-48d2-e25f-8ee31e20c682"
      },
      "execution_count": 2,
      "outputs": [
        {
          "output_type": "stream",
          "name": "stdout",
          "text": [
            "['Apple', 'Banana', 'Cherry', 'Mango']\n"
          ]
        }
      ]
    },
    {
      "cell_type": "code",
      "source": [
        "list.append('Orange')\n",
        "print(list)"
      ],
      "metadata": {
        "colab": {
          "base_uri": "https://localhost:8080/"
        },
        "id": "SvocvfzHSEhV",
        "outputId": "612973b3-52ce-412b-9a89-e7892b607d02"
      },
      "execution_count": 3,
      "outputs": [
        {
          "output_type": "stream",
          "name": "stdout",
          "text": [
            "['Apple', 'Banana', 'Cherry', 'Mango', 'Orange']\n"
          ]
        }
      ]
    },
    {
      "cell_type": "markdown",
      "source": [
        "**Immutable Objects**\n",
        "\n",
        "1. Immutable objects are those whose state and contents cannot be modified after they are created.\n",
        "2. Strings, tuples, integers, float, and frozenset are immutable objects.\n",
        "3. Any operations that appears to modify an immutable object will instead create a new object.\n",
        "4. They typically lack method for in place modification. Instead opearations return new objects."
      ],
      "metadata": {
        "id": "2b-WCeOJSL-8"
      }
    },
    {
      "cell_type": "code",
      "source": [
        "my_string = 'hello'\n",
        "my_string[0] = 'H'\n"
      ],
      "metadata": {
        "id": "GIRRydZeTKod",
        "colab": {
          "base_uri": "https://localhost:8080/",
          "height": 159
        },
        "outputId": "e8c6c4b9-77b5-4e50-9f01-0e24fab75512"
      },
      "execution_count": 5,
      "outputs": [
        {
          "output_type": "error",
          "ename": "TypeError",
          "evalue": "'str' object does not support item assignment",
          "traceback": [
            "\u001b[0;31m---------------------------------------------------------------------------\u001b[0m",
            "\u001b[0;31mTypeError\u001b[0m                                 Traceback (most recent call last)",
            "\u001b[0;32m<ipython-input-5-d328edde2bfa>\u001b[0m in \u001b[0;36m<cell line: 2>\u001b[0;34m()\u001b[0m\n\u001b[1;32m      1\u001b[0m \u001b[0mmy_string\u001b[0m \u001b[0;34m=\u001b[0m \u001b[0;34m'hello'\u001b[0m\u001b[0;34m\u001b[0m\u001b[0;34m\u001b[0m\u001b[0m\n\u001b[0;32m----> 2\u001b[0;31m \u001b[0mmy_string\u001b[0m\u001b[0;34m[\u001b[0m\u001b[0;36m0\u001b[0m\u001b[0;34m]\u001b[0m \u001b[0;34m=\u001b[0m \u001b[0;34m'H'\u001b[0m\u001b[0;34m\u001b[0m\u001b[0;34m\u001b[0m\u001b[0m\n\u001b[0m",
            "\u001b[0;31mTypeError\u001b[0m: 'str' object does not support item assignment"
          ]
        }
      ]
    },
    {
      "cell_type": "code",
      "source": [
        "my_string.capitalize()"
      ],
      "metadata": {
        "colab": {
          "base_uri": "https://localhost:8080/",
          "height": 35
        },
        "id": "YJ2lxDaATEn1",
        "outputId": "470ee128-d650-4a65-820f-9e14291d08f1"
      },
      "execution_count": 6,
      "outputs": [
        {
          "output_type": "execute_result",
          "data": {
            "text/plain": [
              "'Hello'"
            ],
            "application/vnd.google.colaboratory.intrinsic+json": {
              "type": "string"
            }
          },
          "metadata": {},
          "execution_count": 6
        }
      ]
    },
    {
      "cell_type": "markdown",
      "source": [
        "**Comparisons**:\n",
        "\n",
        "1. Mutable Objects:\n",
        " - Can be modified after creation.\n",
        " - Examples - Lists, Dictionaries, sets\n",
        " - Methods modify the object inplace\n",
        " - Can be less efficient for small changes due to internal resizing and memeory allocation.\n",
        " - Suitable for collection of items that change over time.\n",
        " - Not Hashable\n",
        ""
      ],
      "metadata": {
        "id": "WnAhHJUZT4LM"
      }
    },
    {
      "cell_type": "code",
      "source": [],
      "metadata": {
        "id": "iTUEGXLyUjI6"
      },
      "execution_count": null,
      "outputs": []
    }
  ]
}